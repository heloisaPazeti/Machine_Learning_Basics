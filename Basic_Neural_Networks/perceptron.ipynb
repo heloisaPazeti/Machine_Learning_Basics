{
 "cells": [
  {
   "cell_type": "markdown",
   "metadata": {},
   "source": [
    "# The Perceptron\n",
    "O perceptron foi inventado em 1943 por Warren McCulloch e Walter Pitts. A primeira implementação de hardware foi a máquina Mark I Perceptron construída em 1957 por Frank Rosenblatt no Cornell Aeronautical Laboratory. Ele pode ser visto como o tipo mais simples de rede neural feedforward: um classificador linear.\n",
    "\n",
    "O perceptron é um classificador binário que mapeia sua entrada $x$ (um vetor de valor real) para um valor de saída $f ( x )$ (uma valor binário simples) através da matriz.\n",
    "\n",
    "$$\n",
    "    f(x) = \\begin{cases} 1\\text{, if } w*x +b \\geq 0 \\\\ 0 \\text{,  else} \\end{cases}\n",
    "\n",
    "$$\n",
    "\n",
    "Onde w {\\displaystyle w} é um vetor de peso real e w ⋅ x {\\displaystyle w\\cdot x} é o produto escalar (que computa uma soma com pesos) e b {\\displaystyle b} é o viés (do inglês \"bias\"), um termo constante que não depende de qualquer valor de entrada. \n"
   ]
  },
  {
   "cell_type": "markdown",
   "metadata": {},
   "source": []
  }
 ],
 "metadata": {
  "language_info": {
   "name": "python"
  }
 },
 "nbformat": 4,
 "nbformat_minor": 2
}
